{
 "cells": [
  {
   "cell_type": "markdown",
   "id": "6e8bcebc",
   "metadata": {},
   "source": [
    "## 加入attention的seq2seq"
   ]
  },
  {
   "cell_type": "markdown",
   "id": "9fadfada",
   "metadata": {},
   "source": [
    "![1](./Image/1.png)"
   ]
  },
  {
   "cell_type": "markdown",
   "id": "978cd8f9",
   "metadata": {},
   "source": [
    "#### 1、对于encoding来说，它需要对每一个词进行解码，在RNN中，也就是说会形成多个隐层"
   ]
  },
  {
   "cell_type": "markdown",
   "id": "9343c58f",
   "metadata": {},
   "source": [
    "同样编码的时候也是如此，所以需要对编码的前一层进行attention"
   ]
  },
  {
   "cell_type": "markdown",
   "id": "ad9b3f19",
   "metadata": {},
   "source": [
    "#### 2、每一层的attention权重不同"
   ]
  },
  {
   "cell_type": "markdown",
   "id": "31cca66d",
   "metadata": {},
   "source": [
    "#### 3、采用softmax对每一层进行归一化，e^x/(e^x的和）"
   ]
  },
  {
   "cell_type": "markdown",
   "id": "2d5ea438",
   "metadata": {},
   "source": [
    "#### 4、将编码的隐层乘上对应的softmax参数"
   ]
  },
  {
   "cell_type": "markdown",
   "id": "8fbbc3ac",
   "metadata": {},
   "source": [
    "##### 5、求和后作为解码的前一层输入"
   ]
  },
  {
   "cell_type": "markdown",
   "id": "1fa1fb45",
   "metadata": {},
   "source": [
    "![2](./Image/2.png)"
   ]
  },
  {
   "cell_type": "markdown",
   "id": "3ce22092",
   "metadata": {},
   "source": [
    "上述加入attention的操作也就是如图，翻译成英文重点解码过程关注输入的哪个词"
   ]
  },
  {
   "cell_type": "code",
   "execution_count": null,
   "id": "0a33d9eb",
   "metadata": {},
   "outputs": [],
   "source": []
  }
 ],
 "metadata": {
  "kernelspec": {
   "display_name": "Python 3",
   "language": "python",
   "name": "python3"
  },
  "language_info": {
   "codemirror_mode": {
    "name": "ipython",
    "version": 3
   },
   "file_extension": ".py",
   "mimetype": "text/x-python",
   "name": "python",
   "nbconvert_exporter": "python",
   "pygments_lexer": "ipython3",
   "version": "3.6.13"
  }
 },
 "nbformat": 4,
 "nbformat_minor": 5
}
