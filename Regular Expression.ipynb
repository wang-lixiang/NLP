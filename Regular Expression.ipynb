{
 "cells": [
  {
   "cell_type": "markdown",
   "id": "6135621c",
   "metadata": {},
   "source": [
    "## Regular expressions"
   ]
  },
  {
   "cell_type": "markdown",
   "id": "19f37eb4",
   "metadata": {},
   "source": [
    "### (1) Regex in customer support"
   ]
  },
  {
   "cell_type": "markdown",
   "id": "072eb6d0",
   "metadata": {},
   "source": [
    "#### 接收订单号"
   ]
  },
  {
   "cell_type": "code",
   "execution_count": 14,
   "id": "5b18c8e9",
   "metadata": {},
   "outputs": [
    {
     "data": {
      "text/plain": [
       "['412889912']"
      ]
     },
     "execution_count": 14,
     "metadata": {},
     "output_type": "execute_result"
    }
   ],
   "source": [
    "import re\n",
    "\n",
    "chat1 = 'codebasics: Hello, I am having an issue with my order # 412889912'\n",
    "\n",
    "pattern = 'order[^\\d]*(\\d*)'\n",
    "matches = re.findall(pattern, chat1)\n",
    "matches"
   ]
  },
  {
   "cell_type": "code",
   "execution_count": 15,
   "id": "3470d132",
   "metadata": {},
   "outputs": [
    {
     "data": {
      "text/plain": [
       "['412889912']"
      ]
     },
     "execution_count": 15,
     "metadata": {},
     "output_type": "execute_result"
    }
   ],
   "source": [
    "chat2='codebasics: I have a problem with my order number 412889912'\n",
    "pattern = 'order[^\\d]*(\\d*)'\n",
    "matches = re.findall(pattern, chat2)\n",
    "matches"
   ]
  },
  {
   "cell_type": "code",
   "execution_count": 16,
   "id": "0471ca64",
   "metadata": {},
   "outputs": [],
   "source": [
    "def get_pattern_match(pattern, text):\n",
    "    matches = re.findall(pattern,text)\n",
    "    if matches:\n",
    "        return matches[0]\n",
    "    "
   ]
  },
  {
   "cell_type": "code",
   "execution_count": 17,
   "id": "ae7df8fa",
   "metadata": {},
   "outputs": [
    {
     "data": {
      "text/plain": [
       "'412889912'"
      ]
     },
     "execution_count": 17,
     "metadata": {},
     "output_type": "execute_result"
    }
   ],
   "source": [
    "get_pattern_match('order[^\\d]*(\\d*)',chat1)"
   ]
  },
  {
   "cell_type": "markdown",
   "id": "1b4fee86",
   "metadata": {},
   "source": [
    "#### 接收email和电话"
   ]
  },
  {
   "cell_type": "code",
   "execution_count": 21,
   "id": "b3d22a15",
   "metadata": {},
   "outputs": [],
   "source": [
    "chat1 = 'codebasics: you ask lot of questions 😠  1235678912, abc@xyz.com'\n",
    "chat2 = 'codebasics: here it is: (123)-567-8912, abc@xyz.com'\n",
    "chat3 = 'codebasics: yes, phone: 1235678912 email: abc@xyz.com'"
   ]
  },
  {
   "cell_type": "markdown",
   "id": "ea83401c",
   "metadata": {},
   "source": [
    "##### Email id"
   ]
  },
  {
   "cell_type": "code",
   "execution_count": 22,
   "id": "5d2895bb",
   "metadata": {},
   "outputs": [
    {
     "data": {
      "text/plain": [
       "'abc@xyz.com'"
      ]
     },
     "execution_count": 22,
     "metadata": {},
     "output_type": "execute_result"
    }
   ],
   "source": [
    "get_pattern_match('[a-zA-Z0-9_]*@[a-z]*\\.[a-zA-Z0-9]*',chat1)"
   ]
  },
  {
   "cell_type": "code",
   "execution_count": 23,
   "id": "d1a015cb",
   "metadata": {},
   "outputs": [
    {
     "data": {
      "text/plain": [
       "'abc@xyz.com'"
      ]
     },
     "execution_count": 23,
     "metadata": {},
     "output_type": "execute_result"
    }
   ],
   "source": [
    "get_pattern_match('[a-zA-Z0-9_]*@[a-z]*\\.[a-zA-Z0-9]*',chat2)"
   ]
  },
  {
   "cell_type": "code",
   "execution_count": 24,
   "id": "8d66a27c",
   "metadata": {},
   "outputs": [
    {
     "data": {
      "text/plain": [
       "'abc@xyz.com'"
      ]
     },
     "execution_count": 24,
     "metadata": {},
     "output_type": "execute_result"
    }
   ],
   "source": [
    "get_pattern_match('[a-zA-Z0-9_]*@[a-z]*\\.[a-zA-Z0-9]*',chat3)"
   ]
  },
  {
   "cell_type": "markdown",
   "id": "170619ed",
   "metadata": {},
   "source": [
    "##### phone number"
   ]
  },
  {
   "cell_type": "code",
   "execution_count": 25,
   "id": "f6d26792",
   "metadata": {},
   "outputs": [
    {
     "data": {
      "text/plain": [
       "('1235678912', '')"
      ]
     },
     "execution_count": 25,
     "metadata": {},
     "output_type": "execute_result"
    }
   ],
   "source": [
    "get_pattern_match('(\\d{10})|(\\(\\d{3}\\)-\\d{3}-\\d{4})',chat1)"
   ]
  },
  {
   "cell_type": "code",
   "execution_count": 26,
   "id": "bb31ed5c",
   "metadata": {},
   "outputs": [
    {
     "data": {
      "text/plain": [
       "('', '(123)-567-8912')"
      ]
     },
     "execution_count": 26,
     "metadata": {},
     "output_type": "execute_result"
    }
   ],
   "source": [
    "get_pattern_match('(\\d{10})|(\\(\\d{3}\\)-\\d{3}-\\d{4})',chat2)"
   ]
  },
  {
   "cell_type": "code",
   "execution_count": 27,
   "id": "2edf41ce",
   "metadata": {},
   "outputs": [
    {
     "data": {
      "text/plain": [
       "('1235678912', '')"
      ]
     },
     "execution_count": 27,
     "metadata": {},
     "output_type": "execute_result"
    }
   ],
   "source": [
    "get_pattern_match('(\\d{10})|(\\(\\d{3}\\)-\\d{3}-\\d{4})',chat3)"
   ]
  },
  {
   "cell_type": "markdown",
   "id": "d27c21ae",
   "metadata": {},
   "source": [
    "### (2)Regex for information extraction"
   ]
  },
  {
   "cell_type": "code",
   "execution_count": 28,
   "id": "d979e25c",
   "metadata": {},
   "outputs": [],
   "source": [
    "text='''\n",
    "Born\tElon Reeve Musk\n",
    "June 28, 1971 (age 50)\n",
    "Pretoria, Transvaal, South Africa\n",
    "Citizenship\t\n",
    "South Africa (1971–present)\n",
    "Canada (1971–present)\n",
    "United States (2002–present)\n",
    "Education\tUniversity of Pennsylvania (BS, BA)\n",
    "Title\t\n",
    "Founder, CEO and Chief Engineer of SpaceX\n",
    "CEO and product architect of Tesla, Inc.\n",
    "Founder of The Boring Company and X.com (now part of PayPal)\n",
    "Co-founder of Neuralink, OpenAI, and Zip2\n",
    "Spouse(s)\t\n",
    "Justine Wilson\n",
    "​\n",
    "​(m. 2000; div. 2008)​\n",
    "Talulah Riley\n",
    "​\n",
    "​(m. 2010; div. 2012)​\n",
    "​\n",
    "​(m. 2013; div. 2016)\n",
    "'''"
   ]
  },
  {
   "cell_type": "code",
   "execution_count": 33,
   "id": "fcf71a79",
   "metadata": {},
   "outputs": [
    {
     "data": {
      "text/plain": [
       "'50'"
      ]
     },
     "execution_count": 33,
     "metadata": {},
     "output_type": "execute_result"
    }
   ],
   "source": [
    "# 使用r前缀时，Python将会直接按照字符串的实际内容进行解析，不会进行额外的转义处理\n",
    "get_pattern_match(r'age (\\d+)',text)"
   ]
  },
  {
   "cell_type": "code",
   "execution_count": 35,
   "id": "c2438b5c",
   "metadata": {},
   "outputs": [
    {
     "data": {
      "text/plain": [
       "'Elon Reeve Musk'"
      ]
     },
     "execution_count": 35,
     "metadata": {},
     "output_type": "execute_result"
    }
   ],
   "source": [
    "# .表示任何字符\n",
    "# *表示多次\n",
    "# \\n表示到换行符为止\n",
    "# （）使得获取的字符为一个group，也即函数会返回的内容\n",
    "# strip()去除多余的\\t\n",
    "get_pattern_match(r'Born(.*)\\n', text).strip()"
   ]
  },
  {
   "cell_type": "code",
   "execution_count": 36,
   "id": "4120ffda",
   "metadata": {},
   "outputs": [
    {
     "data": {
      "text/plain": [
       "'June 28, 1971'"
      ]
     },
     "execution_count": 36,
     "metadata": {},
     "output_type": "execute_result"
    }
   ],
   "source": [
    "get_pattern_match(r'Born.*\\n(.*)\\(age', text).strip()"
   ]
  },
  {
   "cell_type": "code",
   "execution_count": 37,
   "id": "fc8ba415",
   "metadata": {},
   "outputs": [
    {
     "data": {
      "text/plain": [
       "'Pretoria, Transvaal, South Africa'"
      ]
     },
     "execution_count": 37,
     "metadata": {},
     "output_type": "execute_result"
    }
   ],
   "source": [
    "get_pattern_match(r'\\(age.*\\n(.*)', text)"
   ]
  },
  {
   "cell_type": "code",
   "execution_count": 39,
   "id": "44f47151",
   "metadata": {},
   "outputs": [],
   "source": [
    "def extract_personal_information(text):\n",
    "    age = get_pattern_match('age (\\d+)',text)\n",
    "    full_name = get_pattern_match(r'Born(.*)\\n', text)\n",
    "    birth_date = get_pattern_match(r'Born.*\\n(.*)\\(age', text)\n",
    "    birth_place = get_pattern_match('\\(age.*\\n(.*)', text)\n",
    "    return {\n",
    "        'age': int(age),\n",
    "        'name': full_name.strip(),\n",
    "        'birth_date': birth_date.strip(),\n",
    "        'birth_place': birth_place.strip()\n",
    "    }"
   ]
  },
  {
   "cell_type": "code",
   "execution_count": 40,
   "id": "9a8867d0",
   "metadata": {},
   "outputs": [
    {
     "data": {
      "text/plain": [
       "{'age': 50,\n",
       " 'name': 'Elon Reeve Musk',\n",
       " 'birth_date': 'June 28, 1971',\n",
       " 'birth_place': 'Pretoria, Transvaal, South Africa'}"
      ]
     },
     "execution_count": 40,
     "metadata": {},
     "output_type": "execute_result"
    }
   ],
   "source": [
    "extract_personal_information(text)"
   ]
  },
  {
   "cell_type": "code",
   "execution_count": 41,
   "id": "079a4a11",
   "metadata": {},
   "outputs": [],
   "source": [
    "text = '''\n",
    "Born\tMukesh Dhirubhai Ambani\n",
    "19 April 1957 (age 64)\n",
    "Aden, Colony of Aden\n",
    "(present-day Yemen)[1][2]\n",
    "Nationality\tIndian\n",
    "Alma mater\t\n",
    "St. Xavier's College, Mumbai\n",
    "Institute of Chemical Technology (B.E.)\n",
    "Stanford University (drop-out)\n",
    "Occupation\tChairman and MD, Reliance Industries\n",
    "Spouse(s)\tNita Ambani ​(m. 1985)​[3]\n",
    "Children\t3\n",
    "Parent(s)\t\n",
    "Dhirubhai Ambani (father)\n",
    "Kokilaben Ambani (mother)\n",
    "Relatives\tAnil Ambani (brother)\n",
    "Tina Ambani (sister-in-law)\n",
    "'''"
   ]
  },
  {
   "cell_type": "code",
   "execution_count": 42,
   "id": "efc65b1e",
   "metadata": {},
   "outputs": [
    {
     "data": {
      "text/plain": [
       "{'age': 64,\n",
       " 'name': 'Mukesh Dhirubhai Ambani',\n",
       " 'birth_date': '19 April 1957',\n",
       " 'birth_place': 'Aden, Colony of Aden'}"
      ]
     },
     "execution_count": 42,
     "metadata": {},
     "output_type": "execute_result"
    }
   ],
   "source": [
    "extract_personal_information(text)"
   ]
  },
  {
   "cell_type": "markdown",
   "id": "92e176b1",
   "metadata": {},
   "source": [
    "### （3）Exercise"
   ]
  },
  {
   "cell_type": "code",
   "execution_count": 4,
   "id": "ac050706",
   "metadata": {},
   "outputs": [
    {
     "data": {
      "text/plain": [
       "['elonmusk', 'teslarati', 'dummy_tesla', 'dummy_2_tesla']"
      ]
     },
     "execution_count": 4,
     "metadata": {},
     "output_type": "execute_result"
    }
   ],
   "source": [
    "import re\n",
    "\n",
    "text = '''\n",
    "Follow our leader Elon musk on twitter here: https://twitter.com/elonmusk, more information \n",
    "on Tesla's products can be found at https://www.tesla.com/. Also here are leading influencers \n",
    "for tesla related news,\n",
    "https://twitter.com/teslarati\n",
    "https://twitter.com/dummy_tesla\n",
    "https://twitter.com/dummy_2_tesla\n",
    "'''\n",
    "pattern = 'https://twitter\\.com/([a-zA-Z0-9_]+)'\n",
    "\n",
    "re.findall(pattern, text)"
   ]
  },
  {
   "cell_type": "code",
   "execution_count": 5,
   "id": "d43d582a",
   "metadata": {},
   "outputs": [
    {
     "data": {
      "text/plain": [
       "[' Credit Risk', ' Supply Risk']"
      ]
     },
     "execution_count": 5,
     "metadata": {},
     "output_type": "execute_result"
    }
   ],
   "source": [
    "text = '''\n",
    "Concentration of Risk: Credit Risk\n",
    "Financial instruments that potentially subject us to a concentration of credit risk consist of cash, cash equivalents, marketable securities,\n",
    "restricted cash, accounts receivable, convertible note hedges, and interest rate swaps. Our cash balances are primarily invested in money market funds\n",
    "or on deposit at high credit quality financial institutions in the U.S. These deposits are typically in excess of insured limits. As of September 30, 2021\n",
    "and December 31, 2020, no entity represented 10% or more of our total accounts receivable balance. The risk of concentration for our convertible note\n",
    "hedges and interest rate swaps is mitigated by transacting with several highly-rated multinational banks.\n",
    "Concentration of Risk: Supply Risk\n",
    "We are dependent on our suppliers, including single source suppliers, and the inability of these suppliers to deliver necessary components of our\n",
    "products in a timely manner at prices, quality levels and volumes acceptable to us, or our inability to efficiently manage these components from these\n",
    "suppliers, could have a material adverse effect on our business, prospects, financial condition and operating results.\n",
    "'''\n",
    "pattern = 'Concentration of Risk:(.*)\\n'\n",
    "\n",
    "re.findall(pattern, text)"
   ]
  },
  {
   "cell_type": "code",
   "execution_count": 7,
   "id": "7eece4e6",
   "metadata": {},
   "outputs": [
    {
     "data": {
      "text/plain": [
       "['2021 Q1', '2021 S1']"
      ]
     },
     "execution_count": 7,
     "metadata": {},
     "output_type": "execute_result"
    }
   ],
   "source": [
    "text = '''\n",
    "Tesla's gross cost of operating lease vehicles in FY2021 Q1 was $4.85 billion.\n",
    "BMW's gross cost of operating vehicles in FY2021 S1 was $8 billion.\n",
    "'''\n",
    "\n",
    "pattern = 'FY(\\d{4} (?:Q[1-4]|S[1-2]))'\n",
    "matches = re.findall(pattern, text)\n",
    "matches"
   ]
  },
  {
   "cell_type": "code",
   "execution_count": null,
   "id": "33c3f72d",
   "metadata": {},
   "outputs": [],
   "source": []
  }
 ],
 "metadata": {
  "kernelspec": {
   "display_name": "Python 3",
   "language": "python",
   "name": "python3"
  },
  "language_info": {
   "codemirror_mode": {
    "name": "ipython",
    "version": 3
   },
   "file_extension": ".py",
   "mimetype": "text/x-python",
   "name": "python",
   "nbconvert_exporter": "python",
   "pygments_lexer": "ipython3",
   "version": "3.6.13"
  }
 },
 "nbformat": 4,
 "nbformat_minor": 5
}
