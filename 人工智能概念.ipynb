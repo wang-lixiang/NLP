{
 "cells": [
  {
   "cell_type": "markdown",
   "metadata": {},
   "source": [
    "### 人工智能共分为四类"
   ]
  },
  {
   "cell_type": "markdown",
   "metadata": {},
   "source": [
    "- 有监督学习--x,y同时具备，例如分类、回归\n",
    "- 无监督学习--仅有x，例如聚类、降维\n",
    "- 半监督学习--x,有一点y\n",
    "- 强化学习--agent和周边的环境互动"
   ]
  },
  {
   "cell_type": "markdown",
   "metadata": {},
   "source": [
    "#### 1.回归"
   ]
  },
  {
   "cell_type": "markdown",
   "metadata": {},
   "source": [
    "本质：拟合历史已有的数据，根据拟合出来的函数走势预测未来  \n",
    "目标：预测-inf到+inf之间具体的值、连续值   \n",
    "应用：股票预测、房价预测"
   ]
  },
  {
   "cell_type": "markdown",
   "metadata": {},
   "source": [
    "#### 2.分类"
   ]
  },
  {
   "cell_type": "markdown",
   "metadata": {},
   "source": [
    "本质：找到分界，根据分界对新来的数据进行分类（线、面、超平面）  \n",
    "目标：对新的数据预测出属于各个类别的概率，正确的类别概率越大越好，最后通过选择概率最大的类别为最终类别，类别值是离散值   \n",
    "应用：图像识别、情感分析、银行风控"
   ]
  },
  {
   "cell_type": "markdown",
   "metadata": {},
   "source": [
    "![1](./Img/1.png)"
   ]
  },
  {
   "cell_type": "markdown",
   "metadata": {},
   "source": [
    "#### 3.聚类"
   ]
  },
  {
   "cell_type": "markdown",
   "metadata": {},
   "source": [
    "本质：根据样本和样本之间的相似度归堆   \n",
    "目标：将一批数据划分到多个组  \n",
    "应用：用户分组、异常检测、前景背景分离"
   ]
  },
  {
   "cell_type": "markdown",
   "metadata": {},
   "source": [
    "![2](./Img/2.png)"
   ]
  },
  {
   "cell_type": "markdown",
   "metadata": {},
   "source": [
    "#### 4.降维"
   ]
  },
  {
   "cell_type": "markdown",
   "metadata": {},
   "source": [
    "本质：去掉冗余信息量或噪声  \n",
    "目标：将数据的维度减少  \n",
    "应用：数据的预处理、可视化、提高模型计算速度 "
   ]
  },
  {
   "cell_type": "markdown",
   "metadata": {},
   "source": [
    "![3](./Img/3.png)"
   ]
  },
  {
   "cell_type": "markdown",
   "metadata": {},
   "source": []
  }
 ],
 "metadata": {
  "kernelspec": {
   "display_name": "E_opencv",
   "language": "python",
   "name": "python3"
  },
  "language_info": {
   "codemirror_mode": {
    "name": "ipython",
    "version": 3
   },
   "file_extension": ".py",
   "mimetype": "text/x-python",
   "name": "python",
   "nbconvert_exporter": "python",
   "pygments_lexer": "ipython3",
   "version": "3.10.13"
  }
 },
 "nbformat": 4,
 "nbformat_minor": 2
}
