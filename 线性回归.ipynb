{
 "cells": [
  {
   "cell_type": "markdown",
   "metadata": {},
   "source": [
    "回归问题主要关注确定一个唯一的因变量（需要预测的值）和一个或多个数值型自变量（预测变量）之间的关系。  \n",
    "需要预测的值：即目标变量，target，y，连续值  \n",
    "预测变量：影响目标变量的因素，predictors，X1...XN，可以是连续值也可以是离散值   \n",
    "之间的关系：即模型，model，是我们要求解的"
   ]
  },
  {
   "cell_type": "markdown",
   "metadata": {},
   "source": [
    "#### 简单的线性回归"
   ]
  },
  {
   "cell_type": "markdown",
   "metadata": {},
   "source": [
    "y=a+bx，尽可能的拟合所有点"
   ]
  },
  {
   "cell_type": "markdown",
   "metadata": {},
   "source": [
    "人工智能算法要求的是最优解！"
   ]
  },
  {
   "cell_type": "markdown",
   "metadata": {},
   "source": [
    "<img src=\"./Img/4.png\" width=\"40%\" height=\"50%\">"
   ]
  },
  {
   "cell_type": "markdown",
   "metadata": {},
   "source": []
  }
 ],
 "metadata": {
  "language_info": {
   "name": "python"
  }
 },
 "nbformat": 4,
 "nbformat_minor": 2
}
